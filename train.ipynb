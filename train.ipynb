{
 "cells": [
  {
   "cell_type": "code",
   "execution_count": 1,
   "id": "d253d02e",
   "metadata": {},
   "outputs": [],
   "source": [
    "%load_ext autoreload\n",
    "%autoreload 2 "
   ]
  },
  {
   "cell_type": "markdown",
   "id": "5b9f6dac",
   "metadata": {},
   "source": [
    "## Modules & Libraries"
   ]
  },
  {
   "cell_type": "code",
   "execution_count": 2,
   "id": "3654b4b6",
   "metadata": {},
   "outputs": [],
   "source": [
    "import os\n",
    "import torch\n",
    "import numpy as np\n",
    "import pandas as pd\n",
    "import matplotlib.pyplot as plt\n",
    "import torchvision.transforms as T"
   ]
  },
  {
   "cell_type": "markdown",
   "id": "8e5764cb",
   "metadata": {},
   "source": [
    "## Dataset Instance & Specifications"
   ]
  },
  {
   "cell_type": "code",
   "execution_count": 3,
   "id": "1b64136b",
   "metadata": {},
   "outputs": [],
   "source": [
    "from data import *"
   ]
  },
  {
   "cell_type": "code",
   "execution_count": 4,
   "id": "86e617fd",
   "metadata": {},
   "outputs": [],
   "source": [
    "transform = T.Compose([T.ToTensor(), T.Normalize((0.1307,), (0.3081,))])"
   ]
  },
  {
   "cell_type": "code",
   "execution_count": 5,
   "id": "380a7781",
   "metadata": {},
   "outputs": [],
   "source": [
    "mode = 'train'\n",
    "path = os.path.join(os.getcwd(), os.path.join('dataset', mode))"
   ]
  },
  {
   "cell_type": "code",
   "execution_count": 6,
   "id": "4f04ac3e",
   "metadata": {},
   "outputs": [],
   "source": [
    "data = DigitMnistDataset(mode=mode, path=path, transform=transform)"
   ]
  },
  {
   "cell_type": "markdown",
   "id": "c2321078",
   "metadata": {},
   "source": [
    "## Labels Histogram"
   ]
  },
  {
   "cell_type": "code",
   "execution_count": 7,
   "id": "89218068",
   "metadata": {},
   "outputs": [
    {
     "data": {
      "image/png": "[encoded data removed]",
      "text/plain": [
       "<Figure size 576x432 with 1 Axes>"
      ]
     },
     "metadata": {
      "needs_background": "light"
     },
     "output_type": "display_data"
    }
   ],
   "source": [
    "data.plot_label_distribution()"
   ]
  },
  {
   "cell_type": "markdown",
   "id": "2c9308cf",
   "metadata": {},
   "source": [
    "## Plot of Sample Images"
   ]
  },
  {
   "cell_type": "code",
   "execution_count": 8,
   "id": "a0684ae9",
   "metadata": {},
   "outputs": [
    {
     "data": {
      "image/png": "[encoded data removed]",
      "text/plain": [
       "<Figure size 432x288 with 2 Axes>"
      ]
     },
     "metadata": {
      "needs_background": "light"
     },
     "output_type": "display_data"
    }
   ],
   "source": [
    "data.display_sample_images()"
   ]
  },
  {
   "cell_type": "markdown",
   "id": "e97e5603",
   "metadata": {},
   "source": [
    "## Test Dataset Instance & Specifications\n"
   ]
  },
  {
   "cell_type": "code",
   "execution_count": 9,
   "id": "b5533dd7",
   "metadata": {},
   "outputs": [],
   "source": [
    "mode = 'test'\n",
    "path = os.path.join(os.getcwd(), os.path.join('dataset', mode))"
   ]
  },
  {
   "cell_type": "code",
   "execution_count": 10,
   "id": "677dee37",
   "metadata": {},
   "outputs": [],
   "source": [
    "test_data = DigitMnistDataset(mode=mode, path=path, transform=transform)"
   ]
  },
  {
   "cell_type": "markdown",
   "id": "d397e639",
   "metadata": {},
   "source": [
    "## Plot of Sample Images from the Test Dataset"
   ]
  },
  {
   "cell_type": "code",
   "execution_count": 11,
   "id": "5aca3101",
   "metadata": {},
   "outputs": [
    {
     "data": {
      "image/png": "[encoded data removed]",
      "text/plain": [
       "<Figure size 432x288 with 2 Axes>"
      ]
     },
     "metadata": {
      "needs_background": "light"
     },
     "output_type": "display_data"
    }
   ],
   "source": [
    "test_data.display_sample_images()"
   ]
  },
  {
   "cell_type": "markdown",
   "id": "49dfd9b6",
   "metadata": {},
   "source": [
    "## Split into Training & Validation Data"
   ]
  },
  {
   "cell_type": "code",
   "execution_count": 12,
   "id": "6ee50c07",
   "metadata": {},
   "outputs": [],
   "source": [
    "from torch.utils.data import random_split"
   ]
  },
  {
   "cell_type": "code",
   "execution_count": 13,
   "id": "8c3b8f55",
   "metadata": {},
   "outputs": [],
   "source": [
    "num_samples = len(data)\n",
    "split_ratio = 0.8\n",
    "num_train = int(num_samples * split_ratio)\n",
    "num_val = num_samples - num_train"
   ]
  },
  {
   "cell_type": "code",
   "execution_count": 14,
   "id": "90795d1d",
   "metadata": {},
   "outputs": [
    {
     "name": "stdout",
     "output_type": "stream",
     "text": [
      "Number of training samples: 48000\n",
      "Number of validation samples: 12000\n"
     ]
    }
   ],
   "source": [
    "print(f\"Number of training samples: {num_train}\")\n",
    "print(f\"Number of validation samples: {num_val}\")"
   ]
  },
  {
   "cell_type": "code",
   "execution_count": 15,
   "id": "7b6d2858",
   "metadata": {},
   "outputs": [],
   "source": [
    "train_data, val_data = random_split(data, [num_train, num_val])"
   ]
  },
  {
   "cell_type": "markdown",
   "id": "b04460f9",
   "metadata": {},
   "source": [
    "## Data Loaders"
   ]
  },
  {
   "cell_type": "code",
   "execution_count": 16,
   "id": "526be444",
   "metadata": {},
   "outputs": [],
   "source": [
    "from torch.utils.data import DataLoader"
   ]
  },
  {
   "cell_type": "code",
   "execution_count": 17,
   "id": "2e1e09fc",
   "metadata": {},
   "outputs": [],
   "source": [
    "train_loader = DataLoader(train_data, batch_size = 1024, shuffle=True, num_workers=0, collate_fn=None,pin_memory=True)"
   ]
  },
  {
   "cell_type": "code",
   "execution_count": 18,
   "id": "b7192915",
   "metadata": {},
   "outputs": [],
   "source": [
    "validation_loader = DataLoader(val_data, batch_size = 8192, shuffle=True, num_workers=0, collate_fn=None,pin_memory=True)"
   ]
  },
  {
   "cell_type": "code",
   "execution_count": 19,
   "id": "c57a9f89",
   "metadata": {},
   "outputs": [],
   "source": [
    "test_loader = DataLoader(test_data, batch_size = 8192, shuffle=True, num_workers=0, collate_fn=None,pin_memory=True)"
   ]
  },
  {
   "cell_type": "markdown",
   "id": "3df3cc45",
   "metadata": {},
   "source": [
    "## Model instance & Specifications"
   ]
  },
  {
   "cell_type": "code",
   "execution_count": 20,
   "id": "a7eafbb5",
   "metadata": {},
   "outputs": [],
   "source": [
    "from model import DigitRecognizer"
   ]
  },
  {
   "cell_type": "code",
   "execution_count": 21,
   "id": "3c94d397",
   "metadata": {},
   "outputs": [],
   "source": [
    "in_channels = 1\n",
    "num_classes = 10\n",
    "bias =True\n",
    "out_channels=2\n",
    "dropout=0.1"
   ]
  },
  {
   "cell_type": "code",
   "execution_count": 22,
   "id": "beaf67f7",
   "metadata": {},
   "outputs": [
    {
     "name": "stdout",
     "output_type": "stream",
     "text": [
      "False 0.1\n",
      "True 0.1\n",
      "False 0.1\n",
      "True 0.1\n",
      "False 0.1\n"
     ]
    }
   ],
   "source": [
    "model = DigitRecognizer(in_channels=in_channels, out_channels=out_channels, num_classes=num_classes, dropout=dropout, bias=bias)"
   ]
  },
  {
   "cell_type": "code",
   "execution_count": 23,
   "id": "0090f22d",
   "metadata": {},
   "outputs": [
    {
     "data": {
      "text/plain": [
       "DigitRecognizer(\n",
       "  (model_list): ModuleList(\n",
       "    (0): ModelLayer(\n",
       "      (conv): Conv2d(1, 2, kernel_size=(3, 3), stride=(1, 1))\n",
       "      (bn): BatchNorm2d(2, eps=1e-05, momentum=0.1, affine=True, track_running_stats=True)\n",
       "      (relu): ReLU()\n",
       "      (mp): MaxPool2d(kernel_size=(2, 2), stride=(2, 2), padding=0, dilation=1, ceil_mode=False)\n",
       "      (dropoutLayer): Dropout2d(p=0.1, inplace=False)\n",
       "    )\n",
       "    (1): ResidualBlock(\n",
       "      (conv1): Conv2d(2, 2, kernel_size=(3, 3), stride=(1, 1), padding=(1, 1))\n",
       "      (conv2): Conv2d(2, 2, kernel_size=(3, 3), stride=(1, 1), padding=(1, 1))\n",
       "      (bn): BatchNorm2d(2, eps=1e-05, momentum=0.1, affine=True, track_running_stats=True)\n",
       "      (relu): ReLU()\n",
       "    )\n",
       "    (2): ModelLayer(\n",
       "      (conv): Conv2d(2, 4, kernel_size=(3, 3), stride=(1, 1))\n",
       "      (bn): BatchNorm2d(4, eps=1e-05, momentum=0.1, affine=True, track_running_stats=True)\n",
       "      (relu): ReLU()\n",
       "      (mp): MaxPool2d(kernel_size=(2, 2), stride=(2, 2), padding=0, dilation=1, ceil_mode=False)\n",
       "      (dropoutLayer): Dropout2d(p=0.1, inplace=False)\n",
       "    )\n",
       "    (3): ResidualBlock(\n",
       "      (conv1): Conv2d(4, 4, kernel_size=(3, 3), stride=(1, 1), padding=(1, 1))\n",
       "      (conv2): Conv2d(4, 4, kernel_size=(3, 3), stride=(1, 1), padding=(1, 1))\n",
       "      (bn): BatchNorm2d(4, eps=1e-05, momentum=0.1, affine=True, track_running_stats=True)\n",
       "      (relu): ReLU()\n",
       "    )\n",
       "    (4): ModelLayer(\n",
       "      (conv): Conv2d(4, 8, kernel_size=(3, 3), stride=(1, 1))\n",
       "      (bn): BatchNorm2d(8, eps=1e-05, momentum=0.1, affine=True, track_running_stats=True)\n",
       "      (relu): ReLU()\n",
       "      (mp): MaxPool2d(kernel_size=(2, 2), stride=(2, 2), padding=0, dilation=1, ceil_mode=False)\n",
       "      (dropoutLayer): Dropout2d(p=0.1, inplace=False)\n",
       "    )\n",
       "    (5): ResidualBlock(\n",
       "      (conv1): Conv2d(8, 8, kernel_size=(3, 3), stride=(1, 1), padding=(1, 1))\n",
       "      (conv2): Conv2d(8, 8, kernel_size=(3, 3), stride=(1, 1), padding=(1, 1))\n",
       "      (bn): BatchNorm2d(8, eps=1e-05, momentum=0.1, affine=True, track_running_stats=True)\n",
       "      (relu): ReLU()\n",
       "    )\n",
       "    (6): ModelLayer(\n",
       "      (conv): Conv2d(8, 16, kernel_size=(3, 3), stride=(1, 1))\n",
       "      (bn): BatchNorm2d(16, eps=1e-05, momentum=0.1, affine=True, track_running_stats=True)\n",
       "      (relu): ReLU()\n",
       "      (mp): MaxPool2d(kernel_size=(2, 2), stride=(2, 2), padding=0, dilation=1, ceil_mode=False)\n",
       "      (dropoutLayer): Dropout2d(p=0.1, inplace=False)\n",
       "    )\n",
       "    (7): ResidualBlock(\n",
       "      (conv1): Conv2d(16, 16, kernel_size=(3, 3), stride=(1, 1), padding=(1, 1))\n",
       "      (conv2): Conv2d(16, 16, kernel_size=(3, 3), stride=(1, 1), padding=(1, 1))\n",
       "      (bn): BatchNorm2d(16, eps=1e-05, momentum=0.1, affine=True, track_running_stats=True)\n",
       "      (relu): ReLU()\n",
       "    )\n",
       "    (8): ModelLayer(\n",
       "      (conv): Conv2d(16, 10, kernel_size=(3, 3), stride=(1, 1))\n",
       "      (bn): BatchNorm2d(10, eps=1e-05, momentum=0.1, affine=True, track_running_stats=True)\n",
       "      (relu): ReLU()\n",
       "      (mp): MaxPool2d(kernel_size=(2, 2), stride=(2, 2), padding=0, dilation=1, ceil_mode=False)\n",
       "      (dropoutLayer): Dropout2d(p=0.1, inplace=False)\n",
       "    )\n",
       "    (9): ResidualBlock(\n",
       "      (conv1): Conv2d(10, 10, kernel_size=(3, 3), stride=(1, 1), padding=(1, 1))\n",
       "      (conv2): Conv2d(10, 10, kernel_size=(3, 3), stride=(1, 1), padding=(1, 1))\n",
       "      (bn): BatchNorm2d(10, eps=1e-05, momentum=0.1, affine=True, track_running_stats=True)\n",
       "      (relu): ReLU()\n",
       "    )\n",
       "    (10): Sequential(\n",
       "      (0): AdaptiveAvgPool2d(output_size=1)\n",
       "      (1): Flatten(start_dim=1, end_dim=-1)\n",
       "    )\n",
       "  )\n",
       ")"
      ]
     },
     "execution_count": 23,
     "metadata": {},
     "output_type": "execute_result"
    }
   ],
   "source": [
    "model"
   ]
  },
  {
   "cell_type": "code",
   "execution_count": 24,
   "id": "f2f21724",
   "metadata": {},
   "outputs": [
    {
     "name": "stdout",
     "output_type": "stream",
     "text": [
      "Number of trainable parameters: 11170\n"
     ]
    }
   ],
   "source": [
    "print(f\"Number of trainable parameters: {sum(p.numel() for p in model.parameters() if p.requires_grad)}\")"
   ]
  },
  {
   "cell_type": "markdown",
   "id": "8e5bbe18",
   "metadata": {},
   "source": [
    "## Training Specifications"
   ]
  },
  {
   "cell_type": "code",
   "execution_count": 25,
   "id": "5c508617",
   "metadata": {},
   "outputs": [],
   "source": [
    "learning_rate = 2e-2\n",
    "weight_decay = 0.01\n",
    "momentum = 0.9\n",
    "epochs=30"
   ]
  },
  {
   "cell_type": "markdown",
   "id": "75cd9884",
   "metadata": {},
   "source": [
    "## Optimizer"
   ]
  },
  {
   "cell_type": "code",
   "execution_count": 26,
   "id": "1a49a45f",
   "metadata": {},
   "outputs": [],
   "source": [
    "from torch.optim import AdamW, SGD"
   ]
  },
  {
   "cell_type": "code",
   "execution_count": 27,
   "id": "6514d8b4",
   "metadata": {},
   "outputs": [],
   "source": [
    "optimizer = AdamW(model.parameters(), lr=learning_rate, weight_decay=weight_decay, amsgrad=True)"
   ]
  },
  {
   "cell_type": "markdown",
   "id": "9c101db4",
   "metadata": {},
   "source": [
    "## Learning Rate Scheduler"
   ]
  },
  {
   "cell_type": "code",
   "execution_count": 28,
   "id": "f8dab2a4",
   "metadata": {},
   "outputs": [],
   "source": [
    "from torch.optim.lr_scheduler import StepLR, ReduceLROnPlateau"
   ]
  },
  {
   "cell_type": "code",
   "execution_count": 29,
   "id": "0aeaf82d",
   "metadata": {},
   "outputs": [],
   "source": [
    "scheduler = ReduceLROnPlateau(optimizer, mode='min', factor=0.1, patience=5)"
   ]
  },
  {
   "cell_type": "markdown",
   "id": "124d4b45",
   "metadata": {},
   "source": [
    "## Loss Function"
   ]
  },
  {
   "cell_type": "code",
   "execution_count": 30,
   "id": "6fa9360f",
   "metadata": {},
   "outputs": [],
   "source": [
    "from torch.nn import CrossEntropyLoss"
   ]
  },
  {
   "cell_type": "code",
   "execution_count": 31,
   "id": "1a1835c8",
   "metadata": {},
   "outputs": [],
   "source": [
    "criterion = CrossEntropyLoss(weight=None)\n"
   ]
  },
  {
   "cell_type": "code",
   "execution_count": 32,
   "id": "37638087",
   "metadata": {},
   "outputs": [],
   "source": [
    "torch.backends.cudnn.benchmark = True"
   ]
  },
  {
   "cell_type": "markdown",
   "id": "735664cf",
   "metadata": {},
   "source": [
    "## Cuda Device"
   ]
  },
  {
   "cell_type": "code",
   "execution_count": 33,
   "id": "07512bcd",
   "metadata": {},
   "outputs": [],
   "source": [
    "device = torch.device('cuda' if torch.cuda.is_available() else 'cpu')"
   ]
  },
  {
   "cell_type": "code",
   "execution_count": 34,
   "id": "e3e1d87d",
   "metadata": {},
   "outputs": [
    {
     "name": "stdout",
     "output_type": "stream",
     "text": [
      "cuda\n"
     ]
    }
   ],
   "source": [
    "print(device)"
   ]
  },
  {
   "cell_type": "markdown",
   "id": "6830c7e8",
   "metadata": {},
   "source": [
    "## Training Loop"
   ]
  },
  {
   "cell_type": "code",
   "execution_count": 35,
   "id": "4b50bee5",
   "metadata": {},
   "outputs": [],
   "source": [
    "from train import *"
   ]
  },
  {
   "cell_type": "code",
   "execution_count": 36,
   "id": "8e1e8f1f",
   "metadata": {},
   "outputs": [
    {
     "name": "stdout",
     "output_type": "stream",
     "text": [
      "Current device: cuda\n"
     ]
    },
    {
     "name": "stderr",
     "output_type": "stream",
     "text": [
      "100%|██████████| 47/47 [00:56<00:00,  1.21s/it]"
     ]
    },
    {
     "name": "stdout",
     "output_type": "stream",
     "text": [
      "Evaluating epoch...\n"
     ]
    },
    {
     "name": "stderr",
     "output_type": "stream",
     "text": [
      "\n"
     ]
    },
    {
     "name": "stdout",
     "output_type": "stream",
     "text": [
      "Epoch: 0 | Loss: 36.71 | Train acc: 75.99 | Val acc: 92.50 | Val_loss: 0.718953400850296 | lr: 0.02 | Runtime: 71.71 seconds\n"
     ]
    },
    {
     "name": "stderr",
     "output_type": "stream",
     "text": [
      "100%|██████████| 47/47 [00:56<00:00,  1.19s/it]"
     ]
    },
    {
     "name": "stdout",
     "output_type": "stream",
     "text": [
      "Evaluating epoch...\n"
     ]
    },
    {
     "name": "stderr",
     "output_type": "stream",
     "text": [
      "\n"
     ]
    },
    {
     "name": "stdout",
     "output_type": "stream",
     "text": [
      "Epoch: 1 | Loss: 7.28 | Train acc: 95.32 | Val acc: 97.28 | Val_loss: 0.16668657213449478 | lr: 0.02 | Runtime: 68.71 seconds\n"
     ]
    },
    {
     "name": "stderr",
     "output_type": "stream",
     "text": [
      "100%|██████████| 47/47 [00:54<00:00,  1.16s/it]"
     ]
    },
    {
     "name": "stdout",
     "output_type": "stream",
     "text": [
      "Evaluating epoch...\n"
     ]
    },
    {
     "name": "stderr",
     "output_type": "stream",
     "text": [
      "\n"
     ]
    },
    {
     "name": "stdout",
     "output_type": "stream",
     "text": [
      "Epoch: 2 | Loss: 3.60 | Train acc: 97.68 | Val acc: 97.86 | Val_loss: 0.13613753020763397 | lr: 0.02 | Runtime: 67.08 seconds\n"
     ]
    },
    {
     "name": "stderr",
     "output_type": "stream",
     "text": [
      "100%|██████████| 47/47 [00:55<00:00,  1.19s/it]"
     ]
    },
    {
     "name": "stdout",
     "output_type": "stream",
     "text": [
      "Evaluating epoch...\n"
     ]
    },
    {
     "name": "stderr",
     "output_type": "stream",
     "text": [
      "\n"
     ]
    },
    {
     "name": "stdout",
     "output_type": "stream",
     "text": [
      "Epoch: 3 | Loss: 2.91 | Train acc: 98.09 | Val acc: 98.07 | Val_loss: 0.12735546380281448 | lr: 0.02 | Runtime: 65.42 seconds\n"
     ]
    },
    {
     "name": "stderr",
     "output_type": "stream",
     "text": [
      "100%|██████████| 47/47 [00:54<00:00,  1.16s/it]"
     ]
    },
    {
     "name": "stdout",
     "output_type": "stream",
     "text": [
      "Evaluating epoch...\n"
     ]
    },
    {
     "name": "stderr",
     "output_type": "stream",
     "text": [
      "\n"
     ]
    },
    {
     "name": "stdout",
     "output_type": "stream",
     "text": [
      "Epoch: 4 | Loss: 2.51 | Train acc: 98.36 | Val acc: 98.15 | Val_loss: 0.11930680647492409 | lr: 0.02 | Runtime: 66.40 seconds\n"
     ]
    },
    {
     "name": "stderr",
     "output_type": "stream",
     "text": [
      "100%|██████████| 47/47 [00:55<00:00,  1.17s/it]"
     ]
    },
    {
     "name": "stdout",
     "output_type": "stream",
     "text": [
      "Evaluating epoch...\n"
     ]
    },
    {
     "name": "stderr",
     "output_type": "stream",
     "text": [
      "\n"
     ]
    },
    {
     "name": "stdout",
     "output_type": "stream",
     "text": [
      "Epoch: 5 | Loss: 2.21 | Train acc: 98.51 | Val acc: 98.38 | Val_loss: 0.10968656465411186 | lr: 0.02 | Runtime: 64.41 seconds\n"
     ]
    },
    {
     "name": "stderr",
     "output_type": "stream",
     "text": [
      "100%|██████████| 47/47 [00:47<00:00,  1.01s/it]"
     ]
    },
    {
     "name": "stdout",
     "output_type": "stream",
     "text": [
      "Evaluating epoch...\n"
     ]
    },
    {
     "name": "stderr",
     "output_type": "stream",
     "text": [
      "\n"
     ]
    },
    {
     "name": "stdout",
     "output_type": "stream",
     "text": [
      "Epoch: 6 | Loss: 2.09 | Train acc: 98.60 | Val acc: 98.28 | Val_loss: 0.10537449270486832 | lr: 0.02 | Runtime: 56.87 seconds\n"
     ]
    },
    {
     "name": "stderr",
     "output_type": "stream",
     "text": [
      "100%|██████████| 47/47 [00:55<00:00,  1.18s/it]"
     ]
    },
    {
     "name": "stdout",
     "output_type": "stream",
     "text": [
      "Evaluating epoch...\n"
     ]
    },
    {
     "name": "stderr",
     "output_type": "stream",
     "text": [
      "\n"
     ]
    },
    {
     "name": "stdout",
     "output_type": "stream",
     "text": [
      "Epoch: 7 | Loss: 1.98 | Train acc: 98.61 | Val acc: 98.34 | Val_loss: 0.1109713762998581 | lr: 0.02 | Runtime: 67.58 seconds\n"
     ]
    },
    {
     "name": "stderr",
     "output_type": "stream",
     "text": [
      "100%|██████████| 47/47 [00:55<00:00,  1.17s/it]"
     ]
    },
    {
     "name": "stdout",
     "output_type": "stream",
     "text": [
      "Evaluating epoch...\n"
     ]
    },
    {
     "name": "stderr",
     "output_type": "stream",
     "text": [
      "\n"
     ]
    },
    {
     "name": "stdout",
     "output_type": "stream",
     "text": [
      "Epoch: 8 | Loss: 1.75 | Train acc: 98.84 | Val acc: 98.53 | Val_loss: 0.10478005185723305 | lr: 0.02 | Runtime: 67.57 seconds\n"
     ]
    },
    {
     "name": "stderr",
     "output_type": "stream",
     "text": [
      "100%|██████████| 47/47 [00:55<00:00,  1.18s/it]"
     ]
    },
    {
     "name": "stdout",
     "output_type": "stream",
     "text": [
      "Evaluating epoch...\n"
     ]
    },
    {
     "name": "stderr",
     "output_type": "stream",
     "text": [
      "\n"
     ]
    },
    {
     "name": "stdout",
     "output_type": "stream",
     "text": [
      "Epoch: 9 | Loss: 1.60 | Train acc: 98.85 | Val acc: 98.57 | Val_loss: 0.09992244094610214 | lr: 0.02 | Runtime: 68.07 seconds\n"
     ]
    },
    {
     "name": "stderr",
     "output_type": "stream",
     "text": [
      "100%|██████████| 47/47 [00:52<00:00,  1.11s/it]"
     ]
    },
    {
     "name": "stdout",
     "output_type": "stream",
     "text": [
      "Evaluating epoch...\n"
     ]
    },
    {
     "name": "stderr",
     "output_type": "stream",
     "text": [
      "\n"
     ]
    },
    {
     "name": "stdout",
     "output_type": "stream",
     "text": [
      "Epoch: 10 | Loss: 1.55 | Train acc: 98.94 | Val acc: 98.79 | Val_loss: 0.07834484428167343 | lr: 0.02 | Runtime: 61.72 seconds\n"
     ]
    },
    {
     "name": "stderr",
     "output_type": "stream",
     "text": [
      "100%|██████████| 47/47 [00:54<00:00,  1.16s/it]"
     ]
    },
    {
     "name": "stdout",
     "output_type": "stream",
     "text": [
      "Evaluating epoch...\n"
     ]
    },
    {
     "name": "stderr",
     "output_type": "stream",
     "text": [
      "\n"
     ]
    },
    {
     "name": "stdout",
     "output_type": "stream",
     "text": [
      "Epoch: 11 | Loss: 1.33 | Train acc: 99.13 | Val acc: 98.80 | Val_loss: 0.08558682352304459 | lr: 0.02 | Runtime: 66.77 seconds\n"
     ]
    },
    {
     "name": "stderr",
     "output_type": "stream",
     "text": [
      "100%|██████████| 47/47 [00:57<00:00,  1.22s/it]"
     ]
    },
    {
     "name": "stdout",
     "output_type": "stream",
     "text": [
      "Evaluating epoch...\n"
     ]
    },
    {
     "name": "stderr",
     "output_type": "stream",
     "text": [
      "\n"
     ]
    },
    {
     "name": "stdout",
     "output_type": "stream",
     "text": [
      "Epoch: 12 | Loss: 1.36 | Train acc: 99.10 | Val acc: 98.61 | Val_loss: 0.10868775472044945 | lr: 0.02 | Runtime: 69.74 seconds\n"
     ]
    },
    {
     "name": "stderr",
     "output_type": "stream",
     "text": [
      "100%|██████████| 47/47 [00:54<00:00,  1.16s/it]"
     ]
    },
    {
     "name": "stdout",
     "output_type": "stream",
     "text": [
      "Evaluating epoch...\n"
     ]
    },
    {
     "name": "stderr",
     "output_type": "stream",
     "text": [
      "\n"
     ]
    },
    {
     "name": "stdout",
     "output_type": "stream",
     "text": [
      "Epoch: 13 | Loss: 1.31 | Train acc: 99.16 | Val acc: 98.87 | Val_loss: 0.07360184751451015 | lr: 0.02 | Runtime: 64.56 seconds\n"
     ]
    },
    {
     "name": "stderr",
     "output_type": "stream",
     "text": [
      "100%|██████████| 47/47 [00:48<00:00,  1.03s/it]"
     ]
    },
    {
     "name": "stdout",
     "output_type": "stream",
     "text": [
      "Evaluating epoch...\n"
     ]
    },
    {
     "name": "stderr",
     "output_type": "stream",
     "text": [
      "\n"
     ]
    },
    {
     "name": "stdout",
     "output_type": "stream",
     "text": [
      "Epoch: 14 | Loss: 1.30 | Train acc: 99.13 | Val acc: 98.70 | Val_loss: 0.0924539715051651 | lr: 0.02 | Runtime: 59.22 seconds\n"
     ]
    },
    {
     "name": "stderr",
     "output_type": "stream",
     "text": [
      "100%|██████████| 47/47 [00:48<00:00,  1.04s/it]"
     ]
    },
    {
     "name": "stdout",
     "output_type": "stream",
     "text": [
      "Evaluating epoch...\n"
     ]
    },
    {
     "name": "stderr",
     "output_type": "stream",
     "text": [
      "\n"
     ]
    },
    {
     "name": "stdout",
     "output_type": "stream",
     "text": [
      "Epoch: 15 | Loss: 1.28 | Train acc: 99.12 | Val acc: 98.45 | Val_loss: 0.11113397404551506 | lr: 0.02 | Runtime: 58.90 seconds\n"
     ]
    },
    {
     "name": "stderr",
     "output_type": "stream",
     "text": [
      "100%|██████████| 47/47 [00:48<00:00,  1.03s/it]"
     ]
    },
    {
     "name": "stdout",
     "output_type": "stream",
     "text": [
      "Evaluating epoch...\n"
     ]
    },
    {
     "name": "stderr",
     "output_type": "stream",
     "text": [
      "\n"
     ]
    },
    {
     "name": "stdout",
     "output_type": "stream",
     "text": [
      "Epoch: 16 | Loss: 1.20 | Train acc: 99.17 | Val acc: 98.73 | Val_loss: 0.08929867669939995 | lr: 0.02 | Runtime: 58.06 seconds\n"
     ]
    },
    {
     "name": "stderr",
     "output_type": "stream",
     "text": [
      "100%|██████████| 47/47 [00:49<00:00,  1.06s/it]"
     ]
    },
    {
     "name": "stdout",
     "output_type": "stream",
     "text": [
      "Evaluating epoch...\n"
     ]
    },
    {
     "name": "stderr",
     "output_type": "stream",
     "text": [
      "\n"
     ]
    },
    {
     "name": "stdout",
     "output_type": "stream",
     "text": [
      "Epoch: 17 | Loss: 1.10 | Train acc: 99.21 | Val acc: 98.57 | Val_loss: 0.105791836977005 | lr: 0.02 | Runtime: 59.07 seconds\n"
     ]
    },
    {
     "name": "stderr",
     "output_type": "stream",
     "text": [
      "100%|██████████| 47/47 [00:47<00:00,  1.00s/it]"
     ]
    },
    {
     "name": "stdout",
     "output_type": "stream",
     "text": [
      "Evaluating epoch...\n"
     ]
    },
    {
     "name": "stderr",
     "output_type": "stream",
     "text": [
      "\n"
     ]
    },
    {
     "name": "stdout",
     "output_type": "stream",
     "text": [
      "Epoch: 18 | Loss: 1.05 | Train acc: 99.27 | Val acc: 98.52 | Val_loss: 0.09396595507860184 | lr: 0.02 | Runtime: 56.71 seconds\n"
     ]
    },
    {
     "name": "stderr",
     "output_type": "stream",
     "text": [
      "100%|██████████| 47/47 [00:47<00:00,  1.02s/it]"
     ]
    },
    {
     "name": "stdout",
     "output_type": "stream",
     "text": [
      "Evaluating epoch...\n"
     ]
    },
    {
     "name": "stderr",
     "output_type": "stream",
     "text": [
      "\n"
     ]
    },
    {
     "name": "stdout",
     "output_type": "stream",
     "text": [
      "Epoch: 19 | Loss: 0.98 | Train acc: 99.27 | Val acc: 98.65 | Val_loss: 0.09708395227789879 | lr: 0.002 | Runtime: 57.39 seconds\n"
     ]
    },
    {
     "name": "stderr",
     "output_type": "stream",
     "text": [
      "100%|██████████| 47/47 [00:47<00:00,  1.00s/it]"
     ]
    },
    {
     "name": "stdout",
     "output_type": "stream",
     "text": [
      "Evaluating epoch...\n"
     ]
    },
    {
     "name": "stderr",
     "output_type": "stream",
     "text": [
      "\n"
     ]
    },
    {
     "name": "stdout",
     "output_type": "stream",
     "text": [
      "Epoch: 20 | Loss: 0.51 | Train acc: 99.67 | Val acc: 99.05 | Val_loss: 0.07065143063664436 | lr: 0.002 | Runtime: 57.72 seconds\n"
     ]
    },
    {
     "name": "stderr",
     "output_type": "stream",
     "text": [
      "100%|██████████| 47/47 [00:52<00:00,  1.12s/it]"
     ]
    },
    {
     "name": "stdout",
     "output_type": "stream",
     "text": [
      "Evaluating epoch...\n"
     ]
    },
    {
     "name": "stderr",
     "output_type": "stream",
     "text": [
      "\n"
     ]
    },
    {
     "name": "stdout",
     "output_type": "stream",
     "text": [
      "Epoch: 21 | Loss: 0.27 | Train acc: 99.84 | Val acc: 99.11 | Val_loss: 0.06917865946888924 | lr: 0.002 | Runtime: 62.40 seconds\n"
     ]
    },
    {
     "name": "stderr",
     "output_type": "stream",
     "text": [
      "100%|██████████| 47/47 [00:48<00:00,  1.04s/it]"
     ]
    },
    {
     "name": "stdout",
     "output_type": "stream",
     "text": [
      "Evaluating epoch...\n"
     ]
    },
    {
     "name": "stderr",
     "output_type": "stream",
     "text": [
      "\n"
     ]
    },
    {
     "name": "stdout",
     "output_type": "stream",
     "text": [
      "Epoch: 22 | Loss: 0.21 | Train acc: 99.90 | Val acc: 99.07 | Val_loss: 0.07538019120693207 | lr: 0.002 | Runtime: 58.38 seconds\n"
     ]
    },
    {
     "name": "stderr",
     "output_type": "stream",
     "text": [
      "100%|██████████| 47/47 [00:48<00:00,  1.04s/it]"
     ]
    },
    {
     "name": "stdout",
     "output_type": "stream",
     "text": [
      "Evaluating epoch...\n"
     ]
    },
    {
     "name": "stderr",
     "output_type": "stream",
     "text": [
      "\n"
     ]
    },
    {
     "name": "stdout",
     "output_type": "stream",
     "text": [
      "Epoch: 23 | Loss: 0.17 | Train acc: 99.92 | Val acc: 99.06 | Val_loss: 0.07229309529066086 | lr: 0.002 | Runtime: 58.54 seconds\n"
     ]
    },
    {
     "name": "stderr",
     "output_type": "stream",
     "text": [
      "100%|██████████| 47/47 [00:47<00:00,  1.02s/it]"
     ]
    },
    {
     "name": "stdout",
     "output_type": "stream",
     "text": [
      "Evaluating epoch...\n"
     ]
    },
    {
     "name": "stderr",
     "output_type": "stream",
     "text": [
      "\n"
     ]
    },
    {
     "name": "stdout",
     "output_type": "stream",
     "text": [
      "Epoch: 24 | Loss: 0.15 | Train acc: 99.94 | Val acc: 99.13 | Val_loss: 0.07653453946113586 | lr: 0.002 | Runtime: 57.08 seconds\n"
     ]
    },
    {
     "name": "stderr",
     "output_type": "stream",
     "text": [
      "100%|██████████| 47/47 [00:48<00:00,  1.03s/it]"
     ]
    },
    {
     "name": "stdout",
     "output_type": "stream",
     "text": [
      "Evaluating epoch...\n"
     ]
    },
    {
     "name": "stderr",
     "output_type": "stream",
     "text": [
      "\n"
     ]
    },
    {
     "name": "stdout",
     "output_type": "stream",
     "text": [
      "Epoch: 25 | Loss: 0.13 | Train acc: 99.95 | Val acc: 99.03 | Val_loss: 0.07902942597866058 | lr: 0.002 | Runtime: 58.07 seconds\n"
     ]
    },
    {
     "name": "stderr",
     "output_type": "stream",
     "text": [
      "100%|██████████| 47/47 [00:49<00:00,  1.06s/it]"
     ]
    },
    {
     "name": "stdout",
     "output_type": "stream",
     "text": [
      "Evaluating epoch...\n"
     ]
    },
    {
     "name": "stderr",
     "output_type": "stream",
     "text": [
      "\n"
     ]
    },
    {
     "name": "stdout",
     "output_type": "stream",
     "text": [
      "Epoch: 26 | Loss: 0.12 | Train acc: 99.95 | Val acc: 99.11 | Val_loss: 0.07890182361006737 | lr: 0.002 | Runtime: 60.40 seconds\n"
     ]
    },
    {
     "name": "stderr",
     "output_type": "stream",
     "text": [
      "100%|██████████| 47/47 [00:52<00:00,  1.12s/it]"
     ]
    },
    {
     "name": "stdout",
     "output_type": "stream",
     "text": [
      "Evaluating epoch...\n"
     ]
    },
    {
     "name": "stderr",
     "output_type": "stream",
     "text": [
      "\n"
     ]
    },
    {
     "name": "stdout",
     "output_type": "stream",
     "text": [
      "Epoch: 27 | Loss: 0.10 | Train acc: 99.96 | Val acc: 99.09 | Val_loss: 0.08171406388282776 | lr: 0.0002 | Runtime: 62.07 seconds\n"
     ]
    },
    {
     "name": "stderr",
     "output_type": "stream",
     "text": [
      "100%|██████████| 47/47 [00:47<00:00,  1.01s/it]"
     ]
    },
    {
     "name": "stdout",
     "output_type": "stream",
     "text": [
      "Evaluating epoch...\n"
     ]
    },
    {
     "name": "stderr",
     "output_type": "stream",
     "text": [
      "\n"
     ]
    },
    {
     "name": "stdout",
     "output_type": "stream",
     "text": [
      "Epoch: 28 | Loss: 0.09 | Train acc: 99.97 | Val acc: 99.08 | Val_loss: 0.07946766540408134 | lr: 0.0002 | Runtime: 55.55 seconds\n"
     ]
    },
    {
     "name": "stderr",
     "output_type": "stream",
     "text": [
      "100%|██████████| 47/47 [00:51<00:00,  1.09s/it]"
     ]
    },
    {
     "name": "stdout",
     "output_type": "stream",
     "text": [
      "Evaluating epoch...\n"
     ]
    },
    {
     "name": "stderr",
     "output_type": "stream",
     "text": [
      "\n"
     ]
    },
    {
     "name": "stdout",
     "output_type": "stream",
     "text": [
      "Epoch: 29 | Loss: 0.09 | Train acc: 99.97 | Val acc: 99.11 | Val_loss: 0.08123232424259186 | lr: 0.0002 | Runtime: 60.72 seconds\n"
     ]
    }
   ],
   "source": [
    "total_loss, val_losses, accuracies_train, accuracies_validation = train(model, optimizer, train_loader, validation_loader, criterion, epochs,scheduler=scheduler, device=device)"
   ]
  },
  {
   "cell_type": "markdown",
   "id": "00494133",
   "metadata": {},
   "source": [
    "## Loss Plot"
   ]
  },
  {
   "cell_type": "code",
   "execution_count": 37,
   "id": "616f0d34",
   "metadata": {},
   "outputs": [
    {
     "data": {
      "image/png": "[encoded data removed]",
      "text/plain": [
       "<Figure size 864x432 with 1 Axes>"
      ]
     },
     "metadata": {
      "needs_background": "light"
     },
     "output_type": "display_data"
    }
   ],
   "source": [
    "plt.figure(figsize=(12, 6))\n",
    "plt.plot(range(epochs), total_loss, 'bo-')\n",
    "plt.legend([\"Loss\"], loc =\"upper right\")\n",
    "plt.title('Total Loss')\n",
    "plt.xlabel(\"Epoch\")\n",
    "plt.ylabel(\"Loss \")\n",
    "plt.show()"
   ]
  },
  {
   "cell_type": "markdown",
   "id": "df5b7100",
   "metadata": {},
   "source": [
    "## Training Accracy VS Validation Accuracy Plot"
   ]
  },
  {
   "cell_type": "code",
   "execution_count": 38,
   "id": "13461414",
   "metadata": {},
   "outputs": [
    {
     "data": {
      "image/png": "[encoded data removed]",
      "text/plain": [
       "<Figure size 864x432 with 1 Axes>"
      ]
     },
     "metadata": {
      "needs_background": "light"
     },
     "output_type": "display_data"
    }
   ],
   "source": [
    "plt.figure(figsize=(12, 6))\n",
    "plt.plot(range(epochs), accuracies_train, 'bo-')\n",
    "plt.plot(range(epochs), accuracies_validation, 'ro-')\n",
    "plt.legend([\"Train Accuracy\", \"Validation Accuracy\"], loc =\"lower right\")\n",
    "plt.title('Training Accuracy VS Validation Accuracy')\n",
    "plt.xlabel(\"Epoch\")\n",
    "plt.ylabel(\"Accuracy %\")\n",
    "plt.show()"
   ]
  },
  {
   "cell_type": "markdown",
   "id": "f5ba2456",
   "metadata": {},
   "source": [
    "## Predictions"
   ]
  },
  {
   "cell_type": "code",
   "execution_count": 50,
   "id": "26dada40",
   "metadata": {},
   "outputs": [],
   "source": [
    "from evaluate import *"
   ]
  },
  {
   "cell_type": "code",
   "execution_count": 55,
   "id": "cf82dbfb",
   "metadata": {},
   "outputs": [],
   "source": [
    "test_acc, test_loss = evaluate(model, test_loader, criterion, device)"
   ]
  },
  {
   "cell_type": "code",
   "execution_count": 56,
   "id": "8aaa5227",
   "metadata": {},
   "outputs": [
    {
     "name": "stdout",
     "output_type": "stream",
     "text": [
      "99.04000091552734 0.06847186759114265\n"
     ]
    }
   ],
   "source": [
    "print(f\"Test Accuracy: {test_acc}\\nTest Loss: {test_loss}\")"
   ]
  },
  {
   "cell_type": "markdown",
   "id": "dc63c967",
   "metadata": {},
   "source": [
    "## Confusion Matrix"
   ]
  },
  {
   "cell_type": "code",
   "execution_count": 58,
   "id": "e874c7e2",
   "metadata": {},
   "outputs": [],
   "source": [
    "y_true, y_pred = predictions(model=model, data_loader=test_loader, device=device)"
   ]
  },
  {
   "cell_type": "code",
   "execution_count": 59,
   "id": "4cd528a2",
   "metadata": {},
   "outputs": [],
   "source": [
    "cf_matrix = calculate_confusion_matrix(y_true=y_true, y_pred=y_pred)"
   ]
  },
  {
   "cell_type": "code",
   "execution_count": 60,
   "id": "f266c594",
   "metadata": {},
   "outputs": [
    {
     "data": {
      "image/png": "[encoded data removed]",
      "text/plain": [
       "<Figure size 432x288 with 2 Axes>"
      ]
     },
     "metadata": {
      "needs_background": "light"
     },
     "output_type": "display_data"
    }
   ],
   "source": [
    "plot_cf_matrix(cf_matrix, range(10))"
   ]
  },
  {
   "cell_type": "markdown",
   "id": "3ce4fdc1",
   "metadata": {},
   "source": [
    "## Class Accuracy"
   ]
  },
  {
   "cell_type": "code",
   "execution_count": 68,
   "id": "c94f0000",
   "metadata": {},
   "outputs": [
    {
     "data": {
      "image/png": "[encoded data removed]",
      "text/plain": [
       "<Figure size 720x432 with 1 Axes>"
      ]
     },
     "metadata": {
      "needs_background": "light"
     },
     "output_type": "display_data"
    }
   ],
   "source": [
    "plot_per_class_accuracy(cf_matrix, range(10))\n"
   ]
  },
  {
   "cell_type": "markdown",
   "id": "4b0e5112",
   "metadata": {},
   "source": [
    "## Classification Report"
   ]
  },
  {
   "cell_type": "code",
   "execution_count": 65,
   "id": "79804675",
   "metadata": {},
   "outputs": [],
   "source": [
    "classification_report = get_classification_report(y_true=y_true,\n",
    "                                                  y_pred=y_pred,\n",
    "                                                  )"
   ]
  },
  {
   "cell_type": "code",
   "execution_count": 66,
   "id": "e270fc3a",
   "metadata": {},
   "outputs": [
    {
     "name": "stdout",
     "output_type": "stream",
     "text": [
      "              precision    recall  f1-score   support\n",
      "\n",
      "           0       0.99      0.99      0.99       980\n",
      "           1       0.99      0.99      0.99      1135\n",
      "           2       0.99      1.00      0.99      1032\n",
      "           3       0.98      1.00      0.99      1010\n",
      "           4       0.99      0.99      0.99       982\n",
      "           5       0.99      0.98      0.98       892\n",
      "           6       0.99      0.99      0.99       958\n",
      "           7       0.99      0.99      0.99      1028\n",
      "           8       0.99      0.99      0.99       974\n",
      "           9       0.99      0.98      0.99      1009\n",
      "\n",
      "    accuracy                           0.99     10000\n",
      "   macro avg       0.99      0.99      0.99     10000\n",
      "weighted avg       0.99      0.99      0.99     10000\n",
      "\n"
     ]
    }
   ],
   "source": [
    "print(classification_report)"
   ]
  },
  {
   "cell_type": "markdown",
   "id": "3db8b74d",
   "metadata": {},
   "source": [
    "## Save the Model"
   ]
  },
  {
   "cell_type": "code",
   "execution_count": null,
   "id": "b73ff163",
   "metadata": {},
   "outputs": [],
   "source": [
    "param_name='model_acc_99'\n",
    "path = \"\""
   ]
  },
  {
   "cell_type": "code",
   "execution_count": null,
   "id": "9223cece",
   "metadata": {},
   "outputs": [],
   "source": [
    "path = os.path.join(path, param_name)\n",
    "with open(path, 'wb') as file:\n",
    "    torch.save({'model_state_dict': model.state_dict()}, file)\n"
   ]
  }
 ],
 "metadata": {
  "kernelspec": {
   "display_name": "Python 3 (ipykernel)",
   "language": "python",
   "name": "python3"
  },
  "language_info": {
   "codemirror_mode": {
    "name": "ipython",
    "version": 3
   },
   "file_extension": ".py",
   "mimetype": "text/x-python",
   "name": "python",
   "nbconvert_exporter": "python",
   "pygments_lexer": "ipython3",
   "version": "3.9.12"
  }
 },
 "nbformat": 4,
 "nbformat_minor": 5
}
