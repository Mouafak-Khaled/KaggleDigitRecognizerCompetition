{
 "cells": [
  {
   "cell_type": "code",
   "execution_count": 1,
   "id": "d253d02e",
   "metadata": {},
   "outputs": [],
   "source": [
    "%load_ext autoreload\n",
    "%autoreload 2 "
   ]
  },
  {
   "cell_type": "markdown",
   "id": "b39e81a8",
   "metadata": {},
   "source": [
    "## Modules & Libraries"
   ]
  },
  {
   "cell_type": "code",
   "execution_count": 2,
   "id": "3654b4b6",
   "metadata": {},
   "outputs": [],
   "source": [
    "import os\n",
    "import torch\n",
    "import numpy as np\n",
    "import pandas as pd\n",
    "import matplotlib.pyplot as plt\n",
    "import torchvision.transforms as T"
   ]
  },
  {
   "cell_type": "markdown",
   "id": "3ab14150",
   "metadata": {},
   "source": [
    "## Dataset Instance & Specifications"
   ]
  },
  {
   "cell_type": "code",
   "execution_count": 3,
   "id": "ef102c0e",
   "metadata": {},
   "outputs": [],
   "source": [
    "from data import *"
   ]
  },
  {
   "cell_type": "code",
   "execution_count": 4,
   "id": "8cbdbc86",
   "metadata": {},
   "outputs": [],
   "source": [
    "mode = 'train'\n",
    "path = os.path.join(os.getcwd(), 'dataset')\n",
    "contrast = T.Lambda(lambda x: T.functional.adjust_contrast(x, contrast_factor=2))\n",
    "sharpness  = T.Lambda(lambda x: T.functional.adjust_sharpness(x, sharpness_factor=2))\n",
    "transforms = T.Compose([T.ToTensor(), contrast, sharpness])"
   ]
  },
  {
   "cell_type": "code",
   "execution_count": 5,
   "id": "4f04ac3e",
   "metadata": {},
   "outputs": [],
   "source": [
    "data = DigitMnistDataset(mode=mode, path=path, transforms=transforms)"
   ]
  },
  {
   "cell_type": "markdown",
   "id": "be0ddd34",
   "metadata": {},
   "source": [
    "## Labels Histogram"
   ]
  },
  {
   "cell_type": "code",
   "execution_count": 6,
   "id": "89218068",
   "metadata": {},
   "outputs": [
    {
     "data": {
      "image/png": "[encoded data removed]",
      "text/plain": [
       "<Figure size 576x432 with 1 Axes>"
      ]
     },
     "metadata": {
      "needs_background": "light"
     },
     "output_type": "display_data"
    }
   ],
   "source": [
    "data.plot_label_distribution()"
   ]
  },
  {
   "cell_type": "markdown",
   "id": "5b21fe38",
   "metadata": {},
   "source": [
    "## Plot of Sample Images"
   ]
  },
  {
   "cell_type": "code",
   "execution_count": 7,
   "id": "a0684ae9",
   "metadata": {},
   "outputs": [
    {
     "data": {
      "image/png": "[encoded data removed]",
      "text/plain": [
       "<Figure size 432x288 with 2 Axes>"
      ]
     },
     "metadata": {
      "needs_background": "light"
     },
     "output_type": "display_data"
    }
   ],
   "source": [
    "data.display_sample_images()"
   ]
  },
  {
   "cell_type": "markdown",
   "id": "a572154f",
   "metadata": {},
   "source": [
    "## Test Dataset Instance & Specifications\n"
   ]
  },
  {
   "cell_type": "code",
   "execution_count": 8,
   "id": "b5533dd7",
   "metadata": {},
   "outputs": [],
   "source": [
    "mode = 'test'"
   ]
  },
  {
   "cell_type": "code",
   "execution_count": 10,
   "id": "80f2a58d",
   "metadata": {},
   "outputs": [],
   "source": [
    "test_data = DigitMnistDataset(mode=mode, path=path, transforms=transforms)"
   ]
  },
  {
   "cell_type": "markdown",
   "id": "d844487a",
   "metadata": {},
   "source": [
    "## Plot of Sample Images from the Test Dataset"
   ]
  },
  {
   "cell_type": "code",
   "execution_count": 13,
   "id": "70dc0d25",
   "metadata": {},
   "outputs": [
    {
     "data": {
      "image/png": "[encoded data removed]",
      "text/plain": [
       "<Figure size 432x288 with 2 Axes>"
      ]
     },
     "metadata": {
      "needs_background": "light"
     },
     "output_type": "display_data"
    }
   ],
   "source": [
    "test_data.display_sample_images()"
   ]
  },
  {
   "cell_type": "markdown",
   "id": "64ecd14e",
   "metadata": {},
   "source": [
    "## Split into Training & Validation Data"
   ]
  },
  {
   "cell_type": "code",
   "execution_count": 17,
   "id": "d4488c03",
   "metadata": {},
   "outputs": [],
   "source": [
    "from torch.utils.data import random_split"
   ]
  },
  {
   "cell_type": "code",
   "execution_count": 15,
   "id": "6d719f5e",
   "metadata": {},
   "outputs": [],
   "source": [
    "num_samples = len(data)\n",
    "split_ratio = 0.6\n",
    "num_train = int(num_samples * split_ratio)\n",
    "num_val = num_samples - num_train"
   ]
  },
  {
   "cell_type": "code",
   "execution_count": 18,
   "id": "25a07bfa",
   "metadata": {},
   "outputs": [],
   "source": [
    "train_data, val_data = random_split(data, [num_train, num_val])"
   ]
  },
  {
   "cell_type": "markdown",
   "id": "3aeee725",
   "metadata": {},
   "source": [
    "## Data Loaders"
   ]
  },
  {
   "cell_type": "code",
   "execution_count": 19,
   "id": "c2ad74b7",
   "metadata": {},
   "outputs": [],
   "source": [
    "from torch.utils.data import DataLoader"
   ]
  },
  {
   "cell_type": "code",
   "execution_count": 21,
   "id": "5e9d46de",
   "metadata": {},
   "outputs": [],
   "source": [
    "train_loader = DataLoader(train_data, batch_size = 512, shuffle=True, num_workers=4, collate_fn=None,pin_memory=True)"
   ]
  },
  {
   "cell_type": "code",
   "execution_count": 23,
   "id": "b100198c",
   "metadata": {},
   "outputs": [],
   "source": [
    "validation_loader = DataLoader(val_data, batch_size = 512, shuffle=True, num_workers=4, collate_fn=None,pin_memory=True)"
   ]
  },
  {
   "cell_type": "code",
   "execution_count": 22,
   "id": "850a8ccb",
   "metadata": {},
   "outputs": [],
   "source": [
    "test_loader = DataLoader(test_data, batch_size = 512, shuffle=True, num_workers=4, collate_fn=None,pin_memory=True)"
   ]
  },
  {
   "cell_type": "code",
   "execution_count": null,
   "id": "4782ed6f",
   "metadata": {},
   "outputs": [],
   "source": []
  }
 ],
 "metadata": {
  "kernelspec": {
   "display_name": "Python 3 (ipykernel)",
   "language": "python",
   "name": "python3"
  },
  "language_info": {
   "codemirror_mode": {
    "name": "ipython",
    "version": 3
   },
   "file_extension": ".py",
   "mimetype": "text/x-python",
   "name": "python",
   "nbconvert_exporter": "python",
   "pygments_lexer": "ipython3",
   "version": "3.9.12"
  }
 },
 "nbformat": 4,
 "nbformat_minor": 5
}
